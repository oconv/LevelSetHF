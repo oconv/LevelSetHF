{
 "cells": [
  {
   "cell_type": "code",
   "execution_count": 5,
   "metadata": {},
   "outputs": [],
   "source": [
    "# Imports\n",
    "import sys\n",
    "sys.path.append('../Classes')\n",
    "from flight_physics import *\n",
    "import torch\n",
    "import torch.nn as nn\n",
    "import matplotlib.pyplot as plt\n",
    "plt.rcParams['savefig.dpi'] = 300\n",
    "from mpl_toolkits import mplot3d\n",
    "import numpy as np\n",
    "import math"
   ]
  },
  {
   "cell_type": "markdown",
   "metadata": {},
   "source": [
    "### Hamilton-Jacobi PDE Residual\n",
    "$ G(x,t,p) = \\frac {\\partial \\hat{V}_p (x,t)} {\\partial t} + \\min \\{ 0, \\sup_{u \\in U} \\frac {\\partial \\hat{V}_p (x,t)} {\\partial x} f(x, u) \\} $ \\\n",
    "$ \\hat{V}_p (x, T) = l(x) $"
   ]
  },
  {
   "cell_type": "code",
   "execution_count": 9,
   "metadata": {},
   "outputs": [],
   "source": [
    "# Network residuals\n",
    "def G(x, t, Vp):\n",
    "\n",
    "    y = Vp(x, t)\n",
    "\n",
    "    y_x = torch.autograd.grad(y, x, grad_outputs=torch.ones_like(y),\n",
    "    retain_graph=True,\n",
    "    create_graph=True,\n",
    "    allow_unused=True)[0]\n",
    "\n",
    "    y_t = torch.autograd.grad(y, t, grad_outputs=torch.ones_like(y),\n",
    "    retain_graph=True,\n",
    "    create_graph=True,\n",
    "    allow_unused=True)[0]\n",
    "\n",
    "    # correct controls?\n",
    "    \n",
    "    dot = torch.sum(y_x * f(x, u(x)), -1) # better function to use?\n",
    "    out = y_t - nn.functional.relu( - dot )\n",
    "\n",
    "    return out\n",
    "\n",
    "# Cost criterion\n",
    "T = 2.5 # import this?\n",
    "def H(x, t, Vp):\n",
    "    return torch.sum(G(x, t, Vp) ** 2)\n",
    "\n",
    "def loss(x, t, Vp):\n",
    "    df_loss = H(x, t, Vp)\n",
    "    tz = T * torch.ones(t.size())\n",
    "    dg_loss = torch.sum((Vp(x,tz) - l(x)) ** 2)\n",
    "    loss_ = df_loss + dg_loss\n",
    "    return loss_, df_loss, dg_loss"
   ]
  },
  {
   "cell_type": "code",
   "execution_count": 10,
   "metadata": {},
   "outputs": [],
   "source": [
    "class ValueFunction(nn.Module):\n",
    "    def __init__(self,input_size=3,output_size=1):\n",
    "        super(ValueFunction, self).__init__()\n",
    "        self.linear1 = nn.Linear(input_size,5)\n",
    "        self.linear2 = nn.Linear(5,5)\n",
    "        self.linear3 = nn.Linear(5,output_size)\n",
    "\n",
    "    def forward(self,x,t):\n",
    "        inp = torch.cat((x, t.unsqueeze(-1)), -1)\n",
    "        z = torch.sigmoid(self.linear1(inp))\n",
    "        z = torch.sigmoid(self.linear2(z))\n",
    "        z = torch.tanh(self.linear3(z))\n",
    "        return z.squeeze()\n",
    "\n",
    "valueApprox = ValueFunction()"
   ]
  },
  {
   "cell_type": "code",
   "execution_count": 6,
   "metadata": {},
   "outputs": [],
   "source": [
    "xi = torch.load(\"../Data/xi_roi.pt\")\n",
    "ti = torch.load(\"../Data/ti_roi.pt\")"
   ]
  },
  {
   "cell_type": "code",
   "execution_count": null,
   "metadata": {},
   "outputs": [],
   "source": []
  }
 ],
 "metadata": {
  "interpreter": {
   "hash": "84a5677b4be7885f577fedd0a1d419057b2f10675819fdeb24e51e64e8c778a5"
  },
  "kernelspec": {
   "display_name": "Python 3.9.5 ('ml')",
   "language": "python",
   "name": "python3"
  },
  "language_info": {
   "codemirror_mode": {
    "name": "ipython",
    "version": 3
   },
   "file_extension": ".py",
   "mimetype": "text/x-python",
   "name": "python",
   "nbconvert_exporter": "python",
   "pygments_lexer": "ipython3",
   "version": "3.9.5"
  },
  "orig_nbformat": 4
 },
 "nbformat": 4,
 "nbformat_minor": 2
}
