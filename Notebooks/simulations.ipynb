{
 "cells": [
  {
   "cell_type": "code",
   "execution_count": 1,
   "metadata": {},
   "outputs": [],
   "source": [
    "# Imports\n",
    "import math\n",
    "import numpy as np\n",
    "import matplotlib.pyplot as plt"
   ]
  },
  {
   "cell_type": "code",
   "execution_count": 2,
   "metadata": {},
   "outputs": [],
   "source": [
    "# Variables\n",
    "\n",
    "m = 85000\n",
    "c = 6\n",
    "aL = 30\n",
    "aD = 2\n",
    "Tmin = 40000\n",
    "Tmax = 80000\n",
    "omin = -22.5\n",
    "omax = 22.5\n",
    "Vmin = 180\n",
    "Vmax = 240\n",
    "ymin = -22.5\n",
    "ymax = 22.5\n",
    "\n",
    "g = 9.8\n",
    "dt = 0.001\n",
    "T = 2.5"
   ]
  },
  {
   "cell_type": "code",
   "execution_count": 3,
   "metadata": {},
   "outputs": [],
   "source": [
    "# Dynamics\n",
    "\n",
    "def Vt(V, y):\n",
    "    Vt = - aD * V ** 2 / m - g * math.sin(2 * math.pi * y) + 1 / m * u1\n",
    "    return Vt\n",
    "\n",
    "def yt(V, y):\n",
    "    yt = aL * y * (1 - c * V) / m - g * math.cos(2 * math.pi * y) / V + aL * c * V / m * u2\n",
    "    return yt"
   ]
  },
  {
   "cell_type": "code",
   "execution_count": 4,
   "metadata": {},
   "outputs": [],
   "source": [
    "# Simulation loop\n",
    "\n",
    "ts = np.arange(0, T, dt)\n",
    "Vs = np.zeros(ts.size)\n",
    "ys = np.zeros(ts.size)\n",
    "\n",
    "# Initial conditions\n",
    "\n",
    "Vs[0] = np.random.rand() * (Vmax - Vmin) + Vmin\n",
    "ys[0] = np.random.rand() * (ymax - ymin) + ymin\n",
    "\n",
    "for i in range(1, ts.size):\n",
    "    # if (ys[i] - ys[i - 1]) / (Vs[i] - Vs[i - 1]) < 0:\n",
    "    #     u1 = Tmin\n",
    "    # else:\n",
    "    #     u1 = Tmax\n",
    "\n",
    "    if (Vs[i] - Vs[i - 1]) / (ys[i] - ys[i - 1]) < 0:\n",
    "        u2 = omin\n",
    "    else:\n",
    "        u2 = omax\n",
    "\n",
    "    if i == 1:\n",
    "        u1 = 0; u2 = 0\n",
    "\n",
    "    Vs[i] = Vs[i - 1] + Vt(Vs[i - 1], ys[i - 1]) * dt\n",
    "    ys[i] = ys[i - 1] + yt(Vs[i - 1], ys[i - 1]) * dt"
   ]
  },
  {
   "cell_type": "code",
   "execution_count": 5,
   "metadata": {},
   "outputs": [
    {
     "data": {
      "image/png": "[encoded data removed]",
      "text/plain": [
       "<Figure size 576x432 with 1 Axes>"
      ]
     },
     "metadata": {
      "needs_background": "light"
     },
     "output_type": "display_data"
    }
   ],
   "source": [
    "fig = plt.figure(figsize =(8, 6))\n",
    "ax = plt.axes()\n",
    "\n",
    "a = [180, 180, 240, 240]\n",
    "b = [-22.5, 22.5, -22.5, 22.5]\n",
    "\n",
    "# ax.scatter(a, b)\n",
    "ax.scatter(Vs, ys)\n",
    "ax.scatter(Vs[-1], ys[-1])\n",
    "\n",
    "ax.set(xlabel=\"V\", ylabel=\"y\")\n",
    "\n",
    "plt.show()"
   ]
  },
  {
   "cell_type": "code",
   "execution_count": null,
   "metadata": {},
   "outputs": [],
   "source": []
  }
 ],
 "metadata": {
  "interpreter": {
   "hash": "84a5677b4be7885f577fedd0a1d419057b2f10675819fdeb24e51e64e8c778a5"
  },
  "kernelspec": {
   "display_name": "Python 3.9.5 ('ml')",
   "language": "python",
   "name": "python3"
  },
  "language_info": {
   "codemirror_mode": {
    "name": "ipython",
    "version": 3
   },
   "file_extension": ".py",
   "mimetype": "text/x-python",
   "name": "python",
   "nbconvert_exporter": "python",
   "pygments_lexer": "ipython3",
   "version": "3.9.5"
  },
  "orig_nbformat": 4
 },
 "nbformat": 4,
 "nbformat_minor": 2
}
