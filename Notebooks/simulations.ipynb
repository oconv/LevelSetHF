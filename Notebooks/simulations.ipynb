{
 "cells": [
  {
   "cell_type": "code",
   "execution_count": 1,
   "metadata": {},
   "outputs": [],
   "source": [
    "# Imports\n",
    "import math\n",
    "import numpy as np"
   ]
  },
  {
   "cell_type": "code",
   "execution_count": 2,
   "metadata": {},
   "outputs": [],
   "source": [
    "# Variables\n",
    "\n",
    "m = 85000\n",
    "c = 6\n",
    "aL = 30\n",
    "aD = 2\n",
    "Tmin = 40000\n",
    "Tmax = 80000\n",
    "omin = -22.5\n",
    "omax = 22.5\n",
    "Vmin = 180\n",
    "Vmax = 240\n",
    "ymin = -22.5\n",
    "ymax = 22.5\n",
    "\n",
    "g = 9.8\n",
    "dt = 0.001\n",
    "T = 2.5"
   ]
  },
  {
   "cell_type": "code",
   "execution_count": null,
   "metadata": {},
   "outputs": [],
   "source": [
    "# Dynamics\n",
    "\n",
    "def Vt(V, y):\n",
    "    Vt = - aD * V ** 2 / m - g * math.sin(y) + 1 / m * u1(sdfdsfsdf)\n",
    "    return Vt\n",
    "\n",
    "def yt(V, y):\n",
    "    yt = aL * y * (1 - c * V) / m - g * math.cos(y) / V + aL * c * V / m * u2(asdfsf)\n",
    "    pass"
   ]
  },
  {
   "cell_type": "code",
   "execution_count": 3,
   "metadata": {},
   "outputs": [],
   "source": [
    "# Optimal controls\n",
    "\n",
    "def u1():\n",
    "    if True: return Tmin\n",
    "    else: return Tmax\n",
    "\n",
    "def u2():\n",
    "    if True: return omin\n",
    "    else: return omax"
   ]
  },
  {
   "cell_type": "code",
   "execution_count": 5,
   "metadata": {},
   "outputs": [],
   "source": [
    "# Simulation loop\n",
    "\n",
    "ts = np.arange(0, T, dt)\n",
    "Vs = np.zeros(ts.size)\n",
    "ys = np.zeros(ts.size)\n",
    "\n",
    "# Initial conditions\n",
    "\n",
    "Vs[0] = np.randon.rand() * (Vmax - Vmin) + Vmin\n",
    "ys[0] = np.randon.rand() * (ymax - ymin) + ymin\n",
    "\n",
    "for i in range(1, ts.size):\n",
    "    "
   ]
  },
  {
   "cell_type": "code",
   "execution_count": null,
   "metadata": {},
   "outputs": [],
   "source": []
  }
 ],
 "metadata": {
  "interpreter": {
   "hash": "84a5677b4be7885f577fedd0a1d419057b2f10675819fdeb24e51e64e8c778a5"
  },
  "kernelspec": {
   "display_name": "Python 3.9.5 ('ml')",
   "language": "python",
   "name": "python3"
  },
  "language_info": {
   "codemirror_mode": {
    "name": "ipython",
    "version": 3
   },
   "file_extension": ".py",
   "mimetype": "text/x-python",
   "name": "python",
   "nbconvert_exporter": "python",
   "pygments_lexer": "ipython3",
   "version": "3.9.5"
  },
  "orig_nbformat": 4
 },
 "nbformat": 4,
 "nbformat_minor": 2
}
