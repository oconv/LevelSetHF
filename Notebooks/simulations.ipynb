{
 "cells": [
  {
   "cell_type": "code",
   "execution_count": 1,
   "metadata": {},
   "outputs": [],
   "source": [
    "# Imports\n",
    "import math\n",
    "import numpy as np\n",
    "import torch\n",
    "from matplotlib import pyplot as plt, patches\n",
    "plt.rcParams['savefig.dpi'] = 300"
   ]
  },
  {
   "cell_type": "code",
   "execution_count": 2,
   "metadata": {},
   "outputs": [],
   "source": [
    "# Variables\n",
    "\n",
    "m = 85000\n",
    "c = 6\n",
    "aL = 30\n",
    "aD = 2\n",
    "Tmin = 40000\n",
    "Tmax = 80000\n",
    "omin = -22.5 * (math.pi / 180)\n",
    "omax = 22.5 * (math.pi / 180)\n",
    "Vmin = 180\n",
    "Vmax = 240\n",
    "ymin = -22.5 * (math.pi / 180)\n",
    "ymax = 22.5 * (math.pi / 180)\n",
    "g = 9.8 # gravity\n",
    "\n",
    "T = 2.5\n",
    "dt = 0.001\n",
    "N = 1024\n",
    "lam = 60"
   ]
  },
  {
   "cell_type": "code",
   "execution_count": 3,
   "metadata": {},
   "outputs": [],
   "source": [
    "# Flight dynamics\n",
    "\n",
    "def Vt(V_, y_, u1_):\n",
    "    Vt = - aD * V_ ** 2 / m - g * math.sin(y_) + 1 / m * u1_\n",
    "    return Vt\n",
    "\n",
    "def yt(V_, y_, u2_):\n",
    "    yt = aL * y_ * (1 - c * V_) / m - g * math.cos(y_) / V_ + aL * c * V_ / m * u2_\n",
    "    return yt"
   ]
  },
  {
   "cell_type": "code",
   "execution_count": 4,
   "metadata": {},
   "outputs": [],
   "source": [
    "# Optimal controls\n",
    "# move here"
   ]
  },
  {
   "cell_type": "code",
   "execution_count": 5,
   "metadata": {},
   "outputs": [],
   "source": [
    "# Simulation loop\n",
    "\n",
    "def flight_sim(T, dt, init):\n",
    "\n",
    "    N_ = init[0].size()[0]\n",
    "\n",
    "    ts = torch.arange(0, T, dt)\n",
    "    Vs = torch.zeros((N_, ts.size()[0]))\n",
    "    ys = torch.zeros((N_, ts.size()[0]))\n",
    "\n",
    "    Vs[:,0] = init[0]\n",
    "    ys[:,0] = init[1]\n",
    "\n",
    "    for i in range(N_):\n",
    "\n",
    "        for j in range(1, int(T / dt)):\n",
    "\n",
    "            # u1 controls\n",
    "            if Vs[i][j - 1] < (Vmin + Vmax) / 2:\n",
    "                u1 = Tmax\n",
    "            else:\n",
    "                u1 = Tmin\n",
    "\n",
    "            # u2 controls\n",
    "            if ys[i][j - 1] < (ymin + ymax) / 2:\n",
    "                u2 = omax\n",
    "            else:\n",
    "                u2 = omin\n",
    "\n",
    "            if j == 1:\n",
    "                u1 = 0; u2 = 0\n",
    "\n",
    "            Vs[i][j] = Vs[i][j - 1] + Vt(Vs[i][j - 1], ys[i][j - 1], u1) * dt\n",
    "            ys[i][j] = ys[i][j - 1] + yt(Vs[i][j - 1], ys[i][j - 1], u2) * dt\n",
    "\n",
    "    Vs = torch.unsqueeze(Vs, 1)\n",
    "    ys = torch.unsqueeze(ys, 1)\n",
    "    xs = torch.cat((Vs, ys), 1)\n",
    "\n",
    "    return xs, ts"
   ]
  },
  {
   "cell_type": "code",
   "execution_count": 6,
   "metadata": {},
   "outputs": [],
   "source": [
    "# Uniform sampling simulations\n",
    "\n",
    "Vs_init = torch.rand(N) * (Vmax - Vmin) + Vmin\n",
    "ys_init = torch.rand(N) * (ymax - ymin) + ymin\n",
    "xu_init = (Vs_init, ys_init)\n",
    "\n",
    "xu, tu = flight_sim(T, dt, xu_init)\n",
    "torch.save(xu, \"../Data/x_uniform.pt\")\n",
    "torch.save(tu, \"../Data/t_uniform.pt\")"
   ]
  },
  {
   "cell_type": "code",
   "execution_count": 16,
   "metadata": {},
   "outputs": [
    {
     "data": {
      "image/png": "[encoded data removed]",
      "text/plain": [
       "<Figure size 576x432 with 1 Axes>"
      ]
     },
     "metadata": {
      "needs_background": "light"
     },
     "output_type": "display_data"
    }
   ],
   "source": [
    "# Example paths\n",
    "\n",
    "fig = plt.figure(figsize = (8, 6))\n",
    "ax = plt.axes()\n",
    "\n",
    "box = ax.add_patch(patches.Rectangle((Vmin, ymin), Vmax - Vmin, ymax - ymin, edgecolor='orange',\n",
    "   facecolor='none', linewidth=2, zorder=1))\n",
    "\n",
    "box.set_label(\"Max. Values\")\n",
    "\n",
    "Vs = xu[:,0]\n",
    "ys = xu[:,1]\n",
    "\n",
    "for i in range(8):\n",
    "   ax.plot(Vs[i], ys[i], linestyle='--', c = \"#1f77b4\", zorder=2)\n",
    "   ax.scatter(Vs[i, -1], ys[i, -1], marker = 'x', s=75, c = \"#1f77b4\", zorder=2)\n",
    "\n",
    "ax.set(xlabel=\"V [m/s]\", ylabel=\"\\u03B3 [rads]\")\n",
    "ax.legend()\n",
    "\n",
    "plt.savefig('../Figures/example_paths.png')\n",
    "plt.show()"
   ]
  },
  {
   "cell_type": "code",
   "execution_count": 17,
   "metadata": {},
   "outputs": [],
   "source": [
    "# loss function\n",
    "\n",
    "adj = (ymax - ymin) / (Vmax - Vmin) # scaling factor\n",
    "\n",
    "def l(x):\n",
    "    x = torch.unsqueeze(x, -1)\n",
    "    diff = torch.cat((adj*(x[0] - Vmin), x[1] - ymin, adj*(Vmax - x[0]), ymax - x[1]), -1)\n",
    "    loss = torch.min(diff, -1).values\n",
    "    return loss"
   ]
  },
  {
   "cell_type": "code",
   "execution_count": 18,
   "metadata": {},
   "outputs": [],
   "source": [
    "# ROI sampling\n",
    "\n",
    "def D():\n",
    "    alt = 1.3\n",
    "    V = (alt * (2 * torch.rand(1) - 1) * (Vmax - Vmin) + Vmin + Vmax) / 2\n",
    "    y = (alt * (2 * torch.rand(1) - 1) * (ymax - ymin) + ymin + ymax) / 2\n",
    "    return torch.tensor([V, y])\n",
    "\n",
    "xr_init = torch.zeros((2, N))\n",
    "\n",
    "i = 0\n",
    "while i < N:\n",
    "    a = D()\n",
    "    b = np.random.rand() * lam\n",
    "    if b <= lam * math.exp(- lam * abs(l(a))):\n",
    "        xr_init[:,i] = a\n",
    "        i += 1"
   ]
  },
  {
   "cell_type": "code",
   "execution_count": 19,
   "metadata": {},
   "outputs": [
    {
     "data": {
      "image/png": "[encoded data removed]",
      "text/plain": [
       "<Figure size 576x432 with 1 Axes>"
      ]
     },
     "metadata": {
      "needs_background": "light"
     },
     "output_type": "display_data"
    }
   ],
   "source": [
    "# Plotting initial conditions\n",
    "\n",
    "fig = plt.figure(figsize = (8, 6))\n",
    "ax = plt.axes()\n",
    "\n",
    "plt.scatter(xr_init[0,:], xr_init[1,:])\n",
    "\n",
    "ax.set(xlabel=\"V [m/s]\", ylabel=\"\\u03B3 [rads]\")\n",
    "\n",
    "plt.savefig('../Figures/sample_points.png')\n",
    "plt.show()"
   ]
  },
  {
   "cell_type": "code",
   "execution_count": 20,
   "metadata": {},
   "outputs": [],
   "source": [
    "# ROI sampling simulations\n",
    "\n",
    "xr, tr = flight_sim(T, dt, xr_init)\n",
    "torch.save(xr, \"../Data/x_roi.pt\")\n",
    "torch.save(tr, \"../Data/t_roi.pt\")"
   ]
  },
  {
   "cell_type": "code",
   "execution_count": 21,
   "metadata": {},
   "outputs": [
    {
     "name": "stderr",
     "output_type": "stream",
     "text": [
      "<ipython-input-21-2418c585d256>:7: UserWarning: To copy construct from a tensor, it is recommended to use sourceTensor.clone().detach() or sourceTensor.clone().detach().requires_grad_(True), rather than torch.tensor(sourceTensor).\n",
      "  ix = torch.tensor(ix, dtype=torch.int64)\n"
     ]
    }
   ],
   "source": [
    "# Data collocation\n",
    "\n",
    "def collocate(xs, t):\n",
    "\n",
    "    N_ = N # fix this\n",
    "    ix = torch.floor(t.size()[0] * torch.rand(N_)).unsqueeze(-1).repeat_interleave(2, 1).unsqueeze(-1) # make adaptable\n",
    "    ix = torch.tensor(ix, dtype=torch.int64)\n",
    "\n",
    "    xi = torch.gather(xs, -1, ix).squeeze()\n",
    "    ti = t[ix[:,0,0]]\n",
    "    \n",
    "    return xi, ti # combine these?\n",
    "\n",
    "# Uniform sampling\n",
    "\n",
    "xi_u, ti_u = collocate(xu, tu)\n",
    "\n",
    "torch.save(xi_u, \"../Data/xi_uniform.pt\")\n",
    "torch.save(ti_u, \"../Data/ti_uniform.pt\")\n",
    "\n",
    "# ROI sampling\n",
    "\n",
    "xi_roi, ti_roi = collocate(xr, tr)\n",
    "\n",
    "torch.save(xi_roi, \"../Data/xi_roi.pt\")\n",
    "torch.save(ti_roi, \"../Data/ti_roi.pt\")"
   ]
  }
 ],
 "metadata": {
  "interpreter": {
   "hash": "84a5677b4be7885f577fedd0a1d419057b2f10675819fdeb24e51e64e8c778a5"
  },
  "kernelspec": {
   "display_name": "Python 3.9.5 ('ml')",
   "language": "python",
   "name": "python3"
  },
  "language_info": {
   "codemirror_mode": {
    "name": "ipython",
    "version": 3
   },
   "file_extension": ".py",
   "mimetype": "text/x-python",
   "name": "python",
   "nbconvert_exporter": "python",
   "pygments_lexer": "ipython3",
   "version": "3.9.5"
  },
  "orig_nbformat": 4
 },
 "nbformat": 4,
 "nbformat_minor": 2
}
