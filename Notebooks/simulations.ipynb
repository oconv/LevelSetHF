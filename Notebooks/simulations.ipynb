{
 "cells": [
  {
   "cell_type": "code",
   "execution_count": 7,
   "metadata": {},
   "outputs": [],
   "source": [
    "# Imports\n",
    "import math\n",
    "import numpy as np\n",
    "import torch\n",
    "from matplotlib import pyplot as plt, patches"
   ]
  },
  {
   "cell_type": "code",
   "execution_count": 8,
   "metadata": {},
   "outputs": [],
   "source": [
    "# Variables\n",
    "\n",
    "m = 85000\n",
    "c = 6\n",
    "aL = 30\n",
    "aD = 2\n",
    "Tmin = 40000\n",
    "Tmax = 80000\n",
    "omin = -22.5 * (math.pi / 180)\n",
    "omax = 22.5 * (math.pi / 180)\n",
    "Vmin = 180\n",
    "Vmax = 240\n",
    "ymin = -22.5 * (math.pi / 180)\n",
    "ymax = 22.5 * (math.pi / 180)\n",
    "\n",
    "g = 9.8"
   ]
  },
  {
   "cell_type": "code",
   "execution_count": 9,
   "metadata": {},
   "outputs": [],
   "source": [
    "# Dynamics\n",
    "\n",
    "def Vt(V_, y_):\n",
    "    Vt = - aD * V_ ** 2 / m - g * math.sin(y_) + 1 / m * u1\n",
    "    return Vt\n",
    "\n",
    "def yt(V_, y_):\n",
    "    yt = aL * y_ * (1 - c * V_) / m - g * math.cos(y_) / V_ + aL * c * V_ / m * u2\n",
    "    return yt"
   ]
  },
  {
   "cell_type": "code",
   "execution_count": 36,
   "metadata": {},
   "outputs": [],
   "source": [
    "# Simulation loop\n",
    "\n",
    "N = 8\n",
    "dt = 0.001\n",
    "T = 2.5\n",
    "\n",
    "ts = torch.arange(0, T, dt, requires_grad=True)\n",
    "Vs = torch.zeros((N, ts.size()[0]))\n",
    "ys = torch.zeros((N, ts.size()[0]))\n",
    "\n",
    "Vs_ = torch.zeros((N, ts.size()[0]))\n",
    "ys_ = torch.zeros((N, ts.size()[0]))\n",
    "\n",
    "# Initial conditions\n",
    "Vs[:,0] = torch.rand(N) * (Vmax - Vmin) + Vmin\n",
    "ys[:,0] = torch.rand(N) * (ymax - ymin) + ymin\n",
    "\n",
    "# Vs.requires_grad = True\n",
    "# ys.requires_grad = True\n",
    "\n",
    "for i in range(N):\n",
    "\n",
    "    for j in range(1, ts.size()[0]):\n",
    "\n",
    "        # u1 controls\n",
    "        if Vs[i][j - 1] < (Vmin + Vmax) / 2:\n",
    "            u1 = Tmax\n",
    "        else:\n",
    "            u1 = Tmin\n",
    "\n",
    "        # u2 controls\n",
    "        if ys[i][j - 1] < (ymin + ymax) / 2:\n",
    "            u2 = omax\n",
    "        else:\n",
    "            u2 = omin\n",
    "\n",
    "        if j == 1:\n",
    "            u1 = 0; u2 = 0\n",
    "\n",
    "        Vs[i][j] = Vs[i][j - 1] + Vt(Vs[i][j - 1], ys[i][j - 1]) * dt\n",
    "        ys[i][j] = ys[i][j - 1] + yt(Vs[i][j - 1], ys[i][j - 1]) * dt"
   ]
  },
  {
   "cell_type": "code",
   "execution_count": 37,
   "metadata": {},
   "outputs": [
    {
     "data": {
      "image/png": "[encoded data removed]",
      "text/plain": [
       "<Figure size 576x432 with 1 Axes>"
      ]
     },
     "metadata": {
      "needs_background": "light"
     },
     "output_type": "display_data"
    }
   ],
   "source": [
    "fig = plt.figure(figsize = (8, 6))\n",
    "ax = plt.axes()\n",
    "\n",
    "box = ax.add_patch(patches.Rectangle((Vmin, ymin), Vmax - Vmin, ymax - ymin, edgecolor='orange',\n",
    "   facecolor='none', linewidth=2, zorder=1))\n",
    "box.set_label(\"Max. Values\")\n",
    "\n",
    "n = 0\n",
    "for i in range(n, n + 8):\n",
    "   ax.plot(Vs[i], ys[i], linestyle='--', c = \"#1f77b4\", zorder=2)\n",
    "   ax.scatter(Vs[i][-1], ys[i][-1], marker = 'x', s=75, c = \"#1f77b4\", zorder=2)\n",
    "\n",
    "ax.set(xlabel=\"V [m/s]\", ylabel=\"\\u03B3 [rads]\")\n",
    "ax.legend()\n",
    "\n",
    "plt.show()"
   ]
  },
  {
   "cell_type": "code",
   "execution_count": 53,
   "metadata": {},
   "outputs": [],
   "source": [
    "# loss function\n",
    "\n",
    "def l(x):\n",
    "    x = torch.unsqueeze(x, -1)\n",
    "    diff = torch.cat((x[0] - Vmin, x[1] - ymin, Vmax - x[0], ymax - x[1]), -1)\n",
    "    loss = torch.min(diff, -1).values\n",
    "    return loss"
   ]
  },
  {
   "cell_type": "code",
   "execution_count": 92,
   "metadata": {},
   "outputs": [
    {
     "name": "stderr",
     "output_type": "stream",
     "text": [
      "<ipython-input-92-d31c3c943adb>:24: UserWarning: To copy construct from a tensor, it is recommended to use sourceTensor.clone().detach() or sourceTensor.clone().detach().requires_grad_(True), rather than torch.tensor(sourceTensor).\n",
      "  xi[i,:] = torch.tensor(a)\n"
     ]
    }
   ],
   "source": [
    "# Training sample generation\n",
    "\n",
    "lam = 60\n",
    "N = 1024\n",
    "\n",
    "def D():\n",
    "    alt = 1.3\n",
    "    V = (alt * (2 * torch.rand(1) - 1) * (Vmax - Vmin) + Vmin + Vmax) / 2\n",
    "    y = (alt * (2 * torch.rand(1) - 1) * (ymax - ymin) + ymin + ymax) / 2\n",
    "    return torch.tensor([V, y])\n",
    "\n",
    "xi = torch.zeros((N, 2))\n",
    "ti = torch.zeros((N))\n",
    "\n",
    "i = 0\n",
    "while i < N:\n",
    "    a = D()\n",
    "    b = np.random.rand() * lam\n",
    "    if b <= lam * math.exp(- lam * abs(l(a))):\n",
    "        # t = torch.rand() * T\n",
    "        xi[i,:] = torch.tensor(a)\n",
    "        i += 1"
   ]
  },
  {
   "cell_type": "code",
   "execution_count": 93,
   "metadata": {},
   "outputs": [
    {
     "data": {
      "image/png": "[encoded data removed]",
      "text/plain": [
       "<Figure size 576x432 with 1 Axes>"
      ]
     },
     "metadata": {
      "needs_background": "light"
     },
     "output_type": "display_data"
    }
   ],
   "source": [
    "fig = plt.figure(figsize = (8, 6))\n",
    "ax = plt.axes()\n",
    "\n",
    "plt.scatter(xi[:,0], xi[:,1])\n",
    "\n",
    "ax.set(xlabel=\"V [m/s]\", ylabel=\"\\u03B3 [rads]\")\n",
    "# ax.legend()\n",
    "\n",
    "plt.show()"
   ]
  },
  {
   "cell_type": "code",
   "execution_count": null,
   "metadata": {},
   "outputs": [],
   "source": [
    "# Fix distribution"
   ]
  }
 ],
 "metadata": {
  "interpreter": {
   "hash": "84a5677b4be7885f577fedd0a1d419057b2f10675819fdeb24e51e64e8c778a5"
  },
  "kernelspec": {
   "display_name": "Python 3.9.5 ('ml')",
   "language": "python",
   "name": "python3"
  },
  "language_info": {
   "codemirror_mode": {
    "name": "ipython",
    "version": 3
   },
   "file_extension": ".py",
   "mimetype": "text/x-python",
   "name": "python",
   "nbconvert_exporter": "python",
   "pygments_lexer": "ipython3",
   "version": "3.9.5"
  },
  "orig_nbformat": 4
 },
 "nbformat": 4,
 "nbformat_minor": 2
}
