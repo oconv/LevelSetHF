{
 "cells": [
  {
   "cell_type": "markdown",
   "metadata": {},
   "source": [
    "### Getting differential operators"
   ]
  },
  {
   "cell_type": "code",
   "execution_count": 1,
   "metadata": {},
   "outputs": [],
   "source": [
    "import torch\n",
    "import torch.nn as nn\n",
    "from torch.autograd import grad\n",
    "import torch.nn.functional as F"
   ]
  },
  {
   "cell_type": "code",
   "execution_count": 2,
   "metadata": {},
   "outputs": [
    {
     "name": "stdout",
     "output_type": "stream",
     "text": [
      "dy/dx:\n",
      " (tensor([[6., 6.],\n",
      "        [6., 6.]]),)\n",
      "dv/dx:\n",
      " (tensor([[1., 1.],\n",
      "        [1., 1.]]),)\n"
     ]
    }
   ],
   "source": [
    "x = torch.ones(2, 2, requires_grad=True)\n",
    "v = x + 2\n",
    "y = v ** 2\n",
    "\n",
    "dy_dx = grad(outputs=y, inputs=x, grad_outputs=torch.ones_like(y))\n",
    "print(f'dy/dx:\\n {dy_dx}')\n",
    "\n",
    "dv_dx = grad(outputs=v, inputs=x, grad_outputs=torch.ones_like(v))\n",
    "print(f'dv/dx:\\n {dv_dx}')"
   ]
  },
  {
   "cell_type": "code",
   "execution_count": 3,
   "metadata": {},
   "outputs": [],
   "source": [
    "class MyFunction(nn.Module):\n",
    "    def __init__(self,input_size=2,output_size=1):\n",
    "        super(MyFunction, self).__init__()\n",
    "        self.linear1 = nn.Linear(input_size,5)\n",
    "        self.linear2 = nn.Linear(5,5)\n",
    "        self.linear3 = nn.Linear(5,output_size)\n",
    "\n",
    "    def forward(self,x):\n",
    "        z = torch.sigmoid(self.linear1(x))\n",
    "        z = torch.sigmoid(self.linear2(z))\n",
    "        z = torch.sigmoid(self.linear3(z))\n",
    "        return z"
   ]
  },
  {
   "cell_type": "code",
   "execution_count": 4,
   "metadata": {},
   "outputs": [
    {
     "name": "stdout",
     "output_type": "stream",
     "text": [
      "dy/dx:\n",
      " (tensor([-0.0012,  0.0027]),)\n"
     ]
    }
   ],
   "source": [
    "func = MyFunction()\n",
    "x = torch.rand(2, requires_grad=True)\n",
    "z = func(x)\n",
    "\n",
    "dz_dx = grad(outputs=z, inputs=x, grad_outputs=torch.ones_like(z))\n",
    "print(f'dy/dx:\\n {dz_dx}')"
   ]
  }
 ],
 "metadata": {
  "interpreter": {
   "hash": "84a5677b4be7885f577fedd0a1d419057b2f10675819fdeb24e51e64e8c778a5"
  },
  "kernelspec": {
   "display_name": "Python 3.9.5 64-bit ('ml': conda)",
   "language": "python",
   "name": "python3"
  },
  "language_info": {
   "codemirror_mode": {
    "name": "ipython",
    "version": 3
   },
   "file_extension": ".py",
   "mimetype": "text/x-python",
   "name": "python",
   "nbconvert_exporter": "python",
   "pygments_lexer": "ipython3",
   "version": "3.9.5"
  },
  "orig_nbformat": 4
 },
 "nbformat": 4,
 "nbformat_minor": 2
}
