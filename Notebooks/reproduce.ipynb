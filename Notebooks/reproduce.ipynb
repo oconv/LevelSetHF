{
 "cells": [
  {
   "cell_type": "markdown",
   "metadata": {},
   "source": [
    "### A linear Poisson equation\n",
    "$\\nabla^2 u = sin(\\pi x) sin(\\pi y)$ \\\n",
    "$0 \\leq x \\leq 1$ \\\n",
    "$0 \\leq y \\leq 1$"
   ]
  },
  {
   "cell_type": "code",
   "execution_count": null,
   "metadata": {},
   "outputs": [],
   "source": [
    "# partial differential equation\n",
    "def f(u):\n",
    "    out = torch.sin(torch.tensor(math.pi)*u[0]) * torch.sin(torch.tensor(math.pi)*u[1])\n",
    "    return out, 2\n",
    "\n",
    "# boundary conditions\n",
    "def g(u):\n",
    "    return 0, 0"
   ]
  }
 ],
 "metadata": {
  "language_info": {
   "name": "python"
  },
  "orig_nbformat": 4
 },
 "nbformat": 4,
 "nbformat_minor": 2
}
