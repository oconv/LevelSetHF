{
 "cells": [
  {
   "cell_type": "markdown",
   "metadata": {},
   "source": [
    "### A linear Poisson equation\n",
    "$\\nabla^2 u = sin(\\pi x) sin(\\pi y)$ \\\n",
    "$0 \\leq x \\leq 1$ \\\n",
    "$0 \\leq y \\leq 1$"
   ]
  },
  {
   "cell_type": "code",
   "execution_count": 43,
   "metadata": {},
   "outputs": [],
   "source": [
    "import torch\n",
    "import matplotlib.pyplot as plt"
   ]
  },
  {
   "cell_type": "markdown",
   "metadata": {},
   "source": [
    "### Problem specific functions / variables"
   ]
  },
  {
   "cell_type": "code",
   "execution_count": 73,
   "metadata": {},
   "outputs": [],
   "source": [
    "# partial differential equation\n",
    "def f(u):\n",
    "    out = torch.sin(torch.tensor(math.pi)*u[0]) * torch.sin(torch.tensor(math.pi)*u[1])\n",
    "    return out, []\n",
    "\n",
    "# boundary conditions\n",
    "def g(u):\n",
    "    return 0, 0\n",
    "\n",
    "# Quadrature\n",
    "\n",
    "xs = torch.linspace(0, 1, steps=10)\n",
    "ys = torch.linspace(0, 1, steps=10)\n",
    "x,y = torch.meshgrid(xs, ys)\n",
    "w = torch.cat((torch.reshape(x, (1,-1)), torch.reshape(y,(1,-1))), 0).T\n",
    "\n",
    "dw = []\n",
    "for xy in w: # parallelize this\n",
    "    if xy[0] == 0 or xy[1] == 0 or xy[0] == 1 or xy[1] == 1:\n",
    "        dw.append(xy)\n",
    "dw = torch.stack(dw)"
   ]
  },
  {
   "cell_type": "code",
   "execution_count": 74,
   "metadata": {},
   "outputs": [
    {
     "data": {
      "image/png": "[encoded data removed]",
      "text/plain": [
       "<Figure size 432x288 with 1 Axes>"
      ]
     },
     "metadata": {
      "needs_background": "light"
     },
     "output_type": "display_data"
    }
   ],
   "source": [
    "plt.scatter(dw[:,0],dw[:,1], c = 'r', s = 50)\n",
    "plt.scatter(w[:,0],w[:,1], c = 'b', s = 20)\n",
    "plt.show()\n",
    "# add proper pyplot defualts"
   ]
  },
  {
   "cell_type": "markdown",
   "metadata": {},
   "source": [
    "### Loss function"
   ]
  },
  {
   "cell_type": "code",
   "execution_count": null,
   "metadata": {},
   "outputs": [],
   "source": [
    "def h():\n",
    "    pass"
   ]
  },
  {
   "cell_type": "markdown",
   "metadata": {},
   "source": [
    "### Training loop"
   ]
  },
  {
   "cell_type": "code",
   "execution_count": null,
   "metadata": {},
   "outputs": [],
   "source": [
    "#define the loss fn and optimizer\n",
    "criterion = nn.BCELoss()\n",
    "optimizer = optim.Adam(model.parameters(), lr=0.001)\n",
    "\n",
    "#initialize empty list to track batch losses\n",
    "batch_losses = []\n",
    "\n",
    "#train the neural network for 5 epochs\n",
    "for epoch in range(5):\n",
    "\n",
    "    #reset iterator\n",
    "    dataiter = iter(dataloader)\n",
    "    \n",
    "    for batch in dataiter:\n",
    "                \n",
    "        #reset gradients\n",
    "        optimizer.zero_grad()\n",
    "        \n",
    "        #forward propagation through the network\n",
    "        out = model(batch[\"...\"])\n",
    "        \n",
    "        #calculate the loss\n",
    "        loss = criterion(out, batch[\"...\"])\n",
    "        \n",
    "        #track batch loss\n",
    "        batch_losses.append(loss.item())\n",
    "        \n",
    "        #backpropagation\n",
    "        loss.backward()\n",
    "        \n",
    "        #update the parameters\n",
    "        optimizer.step()"
   ]
  }
 ],
 "metadata": {
  "interpreter": {
   "hash": "84a5677b4be7885f577fedd0a1d419057b2f10675819fdeb24e51e64e8c778a5"
  },
  "kernelspec": {
   "display_name": "Python 3.9.5 64-bit ('ml': conda)",
   "language": "python",
   "name": "python3"
  },
  "language_info": {
   "codemirror_mode": {
    "name": "ipython",
    "version": 3
   },
   "file_extension": ".py",
   "mimetype": "text/x-python",
   "name": "python",
   "nbconvert_exporter": "python",
   "pygments_lexer": "ipython3",
   "version": "3.9.5"
  },
  "orig_nbformat": 4
 },
 "nbformat": 4,
 "nbformat_minor": 2
}
